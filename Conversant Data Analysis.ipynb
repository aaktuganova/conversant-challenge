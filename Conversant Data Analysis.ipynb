{
 "cells": [
  {
   "cell_type": "markdown",
   "metadata": {},
   "source": [
    "# Conversant Test Data analysis"
   ]
  },
  {
   "cell_type": "markdown",
   "metadata": {},
   "source": [
    "Upon initial look at the data, I've firstly Googled rtb.requests. Turned out that could be \"Real Time Bidding\" when advertisers beat for the ad space on the web. Sounds just up Conversant's alley. With that assumption I started to dig further. I found 'Time' section and was confused by the representation but after some Google search, I was able to identify that this must be the time represented in Unix Epoch time that starts Jan 1, 1970 so the huge number is the amount of seconds since that day. With that assumption I've normalized the epoch time to be readable, and also broke the data down by the day of the week nad by the hour.\n",
    "\n",
    "Considering that we have three different data centers that could be potentially located in different time zones, I've chosen to use UTC timestamp to make sure that the timing is accuarate. \n",
    "\n",
    "Upon test sort of the data, I've found that there are some negative values and made an assumption that this data is incorrect as we can't have a negative number amount of bids so I have removed them. Then I found the average or 'mean' value which allowed for a trend to form on the chart.\n",
    "\n",
    "From looking at the chart, we can see that Data Center (DC) I gets the highest traffic between all three DCs. It's laggin between 5 and 10 hours and is picking up and at it's highest between 15 and 22 hours on both - Monday and Tuesday. DC S has very similar tendecies but much less traffic. And DC A data is suspiciously even across the entire time frime.\n",
    "\n",
    "One of the main questions I had was about Value. What is it? Is it the amount of bids at a certain time, winning bid, or something else?"
   ]
  },
  {
   "cell_type": "code",
   "execution_count": 1,
   "metadata": {},
   "outputs": [],
   "source": [
    "import pandas as pd"
   ]
  },
  {
   "cell_type": "code",
   "execution_count": 2,
   "metadata": {},
   "outputs": [],
   "source": [
    "# Use pandas to export data from the text file to Jupyter data frame\n",
    "df = pd.read_table('data/SRE_Test_Data.txt', delimiter='\\t', names=None, header=0)"
   ]
  },
  {
   "cell_type": "code",
   "execution_count": 3,
   "metadata": {},
   "outputs": [
    {
     "data": {
      "text/plain": [
       "Type           1678\n",
       "Time           1678\n",
       "Value          1678\n",
       "Data center    1678\n",
       "dtype: int64"
      ]
     },
     "execution_count": 3,
     "metadata": {},
     "output_type": "execute_result"
    }
   ],
   "source": [
    "# Count the amount of rows in the data frame not including headers\n",
    "df.count()"
   ]
  },
  {
   "cell_type": "code",
   "execution_count": 4,
   "metadata": {},
   "outputs": [],
   "source": [
    "# Run wc -l data/SRE_Test_Data.txt in your terminal to match the amount of rows in the data \n",
    "# frame to the original data from the text file"
   ]
  },
  {
   "cell_type": "code",
   "execution_count": 5,
   "metadata": {},
   "outputs": [],
   "source": [
    "# Sort the data frame by time in ascending order\n",
    "df = df.sort_values('Time')"
   ]
  },
  {
   "cell_type": "code",
   "execution_count": 6,
   "metadata": {
    "scrolled": true
   },
   "outputs": [
    {
     "data": {
      "text/plain": [
       "count    1.678000e+03\n",
       "mean     1.443475e+09\n",
       "std      3.778246e+04\n",
       "min      1.443406e+09\n",
       "25%      1.443444e+09\n",
       "50%      1.443474e+09\n",
       "75%      1.443506e+09\n",
       "max      1.443541e+09\n",
       "Name: Time, dtype: float64"
      ]
     },
     "execution_count": 6,
     "metadata": {},
     "output_type": "execute_result"
    }
   ],
   "source": [
    "df['Time'].describe()"
   ]
  },
  {
   "cell_type": "code",
   "execution_count": 7,
   "metadata": {},
   "outputs": [],
   "source": [
    "# Removes negative values\n",
    "df = df[df['Value'] >= 0]"
   ]
  },
  {
   "cell_type": "code",
   "execution_count": 8,
   "metadata": {},
   "outputs": [],
   "source": [
    "# Converts epoch time to human readable time in UTC format\n",
    "from datetime import datetime\n",
    "import calendar\n",
    "\n",
    "days_of_week = list(calendar.day_abbr) # Assigns the abbreviation of the weekday to an integer representation \n",
    "\n",
    "def normalize_time(epoch):\n",
    "    event_time = datetime.utcfromtimestamp(epoch)\n",
    "    return {\n",
    "        \"hour\": event_time.hour,\n",
    "        \"weekday\": days_of_week[event_time.weekday()],\n",
    "        \"iso8601\": event_time.isoformat()\n",
    "    }\n",
    "\n",
    "df['Human Time'] = df.apply (lambda row: normalize_time(row['Time'])['iso8601'], axis=1)\n",
    "df['Weekday'] = df.apply (lambda row: normalize_time(row['Time'])['weekday'], axis=1)\n",
    "df['Hour'] = df.apply (lambda row: normalize_time(row['Time'])['hour'], axis=1)"
   ]
  },
  {
   "cell_type": "code",
   "execution_count": 9,
   "metadata": {},
   "outputs": [],
   "source": [
    "# Normalizing epoch time by removing the earliest timestamp\n",
    "minimum_time = df['Time'].min()\n",
    "df['Normalized Time'] = df.apply (lambda row: row['Time'] - minimum_time, axis=1)"
   ]
  },
  {
   "cell_type": "code",
   "execution_count": 10,
   "metadata": {},
   "outputs": [],
   "source": [
    "# Sorts data frame by the data center location\n",
    "dc_a = df[df['Data center'] == 'dc=A']\n",
    "dc_i = df[df['Data center'] == 'dc=I']\n",
    "dc_s = df[df['Data center'] == 'dc=S']"
   ]
  },
  {
   "cell_type": "code",
   "execution_count": 11,
   "metadata": {},
   "outputs": [],
   "source": [
    "# Sorts data center locations data by the day of the week\n",
    "dc_a_mon = dc_a[dc_a['Weekday'] == 'Mon']\n",
    "dc_i_mon = dc_i[dc_i['Weekday'] == 'Mon']\n",
    "dc_s_mon = dc_s[dc_s['Weekday'] == 'Mon']\n",
    "\n",
    "dc_a_tue = dc_a[dc_a['Weekday'] == 'Tue']\n",
    "dc_i_tue = dc_i[dc_i['Weekday'] == 'Tue']\n",
    "dc_s_tue = dc_s[dc_s['Weekday'] == 'Tue']"
   ]
  },
  {
   "cell_type": "code",
   "execution_count": 12,
   "metadata": {},
   "outputs": [],
   "source": [
    "# Sort data from each data center per day of the week by the hour\n",
    "dc_a_mon_hr = dc_a_mon.groupby(['Hour'])['Value'].describe()\n",
    "dc_i_mon_hr = dc_i_mon.groupby(['Hour'])['Value'].describe()\n",
    "dc_s_mon_hr = dc_s_mon.groupby(['Hour'])['Value'].describe()\n",
    "\n",
    "dc_a_tue_hr = dc_a_tue.groupby(['Hour'])['Value'].describe()\n",
    "dc_i_tue_hr = dc_i_tue.groupby(['Hour'])['Value'].describe()\n",
    "dc_s_tue_hr = dc_s_tue.groupby(['Hour'])['Value'].describe()"
   ]
  },
  {
   "cell_type": "code",
   "execution_count": 13,
   "metadata": {},
   "outputs": [
    {
     "data": {
      "text/html": [
       "<script>requirejs.config({paths: { 'plotly': ['https://cdn.plot.ly/plotly-latest.min']},});if(!window.Plotly) {{require(['plotly'],function(plotly) {window.Plotly=plotly;});}}</script>"
      ],
      "text/vnd.plotly.v1+html": [
       "<script>requirejs.config({paths: { 'plotly': ['https://cdn.plot.ly/plotly-latest.min']},});if(!window.Plotly) {{require(['plotly'],function(plotly) {window.Plotly=plotly;});}}</script>"
      ]
     },
     "metadata": {},
     "output_type": "display_data"
    },
    {
     "data": {
      "application/vnd.plotly.v1+json": {
       "data": [
        {
         "name": "Data center A",
         "type": "scatter",
         "x": [
          2,
          3,
          4,
          5,
          6,
          7,
          8,
          9,
          10,
          11,
          12,
          13,
          14,
          15,
          16,
          17,
          18,
          19,
          20,
          21,
          22,
          23
         ],
         "y": [
          1554.4614202222224,
          1725.3850000000002,
          2835.7691667,
          4061.062791,
          4519.666388899999,
          3943.761342,
          3623.41411,
          4180.233543571429,
          3739.924947,
          3608.4898146,
          4323.547017166667,
          3577.7595072499994,
          3710.734562384615,
          3868.4096825714287,
          3371.5178712142856,
          3049.8042725000005,
          3173.0600805909094,
          3350.0750794545456,
          3644.6697681904757,
          3496.2221556000004,
          4072.8768673157892,
          2946.3843130769233
         ]
        },
        {
         "name": "Data center I",
         "type": "scatter",
         "x": [
          2,
          3,
          4,
          5,
          6,
          7,
          8,
          9,
          10,
          11,
          12,
          13,
          14,
          15,
          16,
          17,
          18,
          19,
          20,
          21,
          22,
          23
         ],
         "y": [
          44031.289506666675,
          37329.95166599999,
          24001.189722000003,
          15085.385000999999,
          10209.5711117,
          7301.1533333,
          6350.6755556,
          7847.2330557,
          12114.646667099998,
          19830.803056,
          30249.564442999992,
          41442.94889000001,
          46992.703889000004,
          49710.779445,
          53019.4161,
          58165.448334,
          58698.33071699999,
          37520.929072,
          41060.14878645162,
          37067.30338709677,
          34072.4759875,
          40873.931110000005
         ]
        },
        {
         "name": "Data center S",
         "type": "scatter",
         "x": [
          2,
          3,
          4,
          5,
          6,
          7,
          8,
          9,
          10,
          11,
          12,
          13,
          14,
          15,
          16,
          17,
          18,
          19,
          20,
          21,
          22,
          23
         ],
         "y": [
          12479.825122944443,
          11872.449145555556,
          9573.492845315792,
          6165.300934000001,
          3987.5074328500004,
          2556.470525,
          1790.9935965625,
          1462.0572968125,
          1801.9344634705883,
          2485.00389315,
          4205.6216405,
          6983.551865277778,
          11051.643878533334,
          13908.136125555555,
          18986.751639375,
          15164.264732631578,
          13937.68008625,
          14869.721036470588,
          16875.272106470584,
          14942.593042571427,
          14200.556202222222,
          12236.671337000002
         ]
        }
       ],
       "layout": {
        "title": "Monday breakdown by hour",
        "xaxis": {
         "domain": [
          0,
          24
         ],
         "title": "24 hour period of time in UTC"
        },
        "yaxis": {
         "domain": [
          0,
          60000
         ],
         "title": "Amount of bids"
        }
       }
      },
      "text/html": [
       "<div id=\"4c3a18f0-93fc-4afd-a9d7-bb5e7c01a97a\" style=\"height: 525px; width: 100%;\" class=\"plotly-graph-div\"></div><script type=\"text/javascript\">require([\"plotly\"], function(Plotly) { window.PLOTLYENV=window.PLOTLYENV || {};window.PLOTLYENV.BASE_URL=\"https://plot.ly\";Plotly.newPlot(\"4c3a18f0-93fc-4afd-a9d7-bb5e7c01a97a\", [{\"type\": \"scatter\", \"x\": [2, 3, 4, 5, 6, 7, 8, 9, 10, 11, 12, 13, 14, 15, 16, 17, 18, 19, 20, 21, 22, 23], \"y\": [1554.4614202222224, 1725.3850000000002, 2835.7691667, 4061.062791, 4519.666388899999, 3943.761342, 3623.41411, 4180.233543571429, 3739.924947, 3608.4898146, 4323.547017166667, 3577.7595072499994, 3710.734562384615, 3868.4096825714287, 3371.5178712142856, 3049.8042725000005, 3173.0600805909094, 3350.0750794545456, 3644.6697681904757, 3496.2221556000004, 4072.8768673157892, 2946.3843130769233], \"name\": \"Data center A\"}, {\"type\": \"scatter\", \"x\": [2, 3, 4, 5, 6, 7, 8, 9, 10, 11, 12, 13, 14, 15, 16, 17, 18, 19, 20, 21, 22, 23], \"y\": [44031.289506666675, 37329.95166599999, 24001.189722000003, 15085.385000999999, 10209.5711117, 7301.1533333, 6350.6755556, 7847.2330557, 12114.646667099998, 19830.803056, 30249.564442999992, 41442.94889000001, 46992.703889000004, 49710.779445, 53019.4161, 58165.448334, 58698.33071699999, 37520.929072, 41060.14878645162, 37067.30338709677, 34072.4759875, 40873.931110000005], \"name\": \"Data center I\"}, {\"type\": \"scatter\", \"x\": [2, 3, 4, 5, 6, 7, 8, 9, 10, 11, 12, 13, 14, 15, 16, 17, 18, 19, 20, 21, 22, 23], \"y\": [12479.825122944443, 11872.449145555556, 9573.492845315792, 6165.300934000001, 3987.5074328500004, 2556.470525, 1790.9935965625, 1462.0572968125, 1801.9344634705883, 2485.00389315, 4205.6216405, 6983.551865277778, 11051.643878533334, 13908.136125555555, 18986.751639375, 15164.264732631578, 13937.68008625, 14869.721036470588, 16875.272106470584, 14942.593042571427, 14200.556202222222, 12236.671337000002], \"name\": \"Data center S\"}], {\"title\": \"Monday breakdown by hour\", \"xaxis\": {\"title\": \"24 hour period of time in UTC\", \"domain\": [0, 24]}, \"yaxis\": {\"title\": \"Amount of bids\", \"domain\": [0, 60000]}}, {\"showLink\": true, \"linkText\": \"Export to plot.ly\"})});</script>"
      ],
      "text/vnd.plotly.v1+html": [
       "<div id=\"4c3a18f0-93fc-4afd-a9d7-bb5e7c01a97a\" style=\"height: 525px; width: 100%;\" class=\"plotly-graph-div\"></div><script type=\"text/javascript\">require([\"plotly\"], function(Plotly) { window.PLOTLYENV=window.PLOTLYENV || {};window.PLOTLYENV.BASE_URL=\"https://plot.ly\";Plotly.newPlot(\"4c3a18f0-93fc-4afd-a9d7-bb5e7c01a97a\", [{\"type\": \"scatter\", \"x\": [2, 3, 4, 5, 6, 7, 8, 9, 10, 11, 12, 13, 14, 15, 16, 17, 18, 19, 20, 21, 22, 23], \"y\": [1554.4614202222224, 1725.3850000000002, 2835.7691667, 4061.062791, 4519.666388899999, 3943.761342, 3623.41411, 4180.233543571429, 3739.924947, 3608.4898146, 4323.547017166667, 3577.7595072499994, 3710.734562384615, 3868.4096825714287, 3371.5178712142856, 3049.8042725000005, 3173.0600805909094, 3350.0750794545456, 3644.6697681904757, 3496.2221556000004, 4072.8768673157892, 2946.3843130769233], \"name\": \"Data center A\"}, {\"type\": \"scatter\", \"x\": [2, 3, 4, 5, 6, 7, 8, 9, 10, 11, 12, 13, 14, 15, 16, 17, 18, 19, 20, 21, 22, 23], \"y\": [44031.289506666675, 37329.95166599999, 24001.189722000003, 15085.385000999999, 10209.5711117, 7301.1533333, 6350.6755556, 7847.2330557, 12114.646667099998, 19830.803056, 30249.564442999992, 41442.94889000001, 46992.703889000004, 49710.779445, 53019.4161, 58165.448334, 58698.33071699999, 37520.929072, 41060.14878645162, 37067.30338709677, 34072.4759875, 40873.931110000005], \"name\": \"Data center I\"}, {\"type\": \"scatter\", \"x\": [2, 3, 4, 5, 6, 7, 8, 9, 10, 11, 12, 13, 14, 15, 16, 17, 18, 19, 20, 21, 22, 23], \"y\": [12479.825122944443, 11872.449145555556, 9573.492845315792, 6165.300934000001, 3987.5074328500004, 2556.470525, 1790.9935965625, 1462.0572968125, 1801.9344634705883, 2485.00389315, 4205.6216405, 6983.551865277778, 11051.643878533334, 13908.136125555555, 18986.751639375, 15164.264732631578, 13937.68008625, 14869.721036470588, 16875.272106470584, 14942.593042571427, 14200.556202222222, 12236.671337000002], \"name\": \"Data center S\"}], {\"title\": \"Monday breakdown by hour\", \"xaxis\": {\"title\": \"24 hour period of time in UTC\", \"domain\": [0, 24]}, \"yaxis\": {\"title\": \"Amount of bids\", \"domain\": [0, 60000]}}, {\"showLink\": true, \"linkText\": \"Export to plot.ly\"})});</script>"
      ]
     },
     "metadata": {},
     "output_type": "display_data"
    },
    {
     "data": {
      "application/vnd.plotly.v1+json": {
       "data": [
        {
         "name": "Data center A",
         "type": "scatter",
         "x": [
          0,
          1,
          2,
          3,
          4,
          5,
          6,
          7,
          8,
          9,
          10,
          11,
          12,
          13,
          14,
          15
         ],
         "y": [
          2039.9861855,
          1646.0283704,
          1557.6388590833333,
          1864.5167696428573,
          2682.758309,
          4057.1297995384616,
          4856.406840615384,
          4023.9615244166666,
          4277.015138999999,
          4737.112380909091,
          4406.03850525,
          4894.928115083333,
          5374.390995153846,
          4388.303467529411,
          4129.013524823529,
          4419.7281746
         ]
        },
        {
         "name": "Data center I",
         "type": "scatter",
         "x": [
          0,
          1,
          2,
          3,
          4,
          5,
          6,
          7,
          8,
          9,
          10,
          11,
          12,
          13,
          14,
          15
         ],
         "y": [
          43689.695001,
          42702.475,
          40249.740556,
          32614.144443999998,
          20039.588885454545,
          12561.695001,
          8923.556111200001,
          6528.1669443,
          5988.0791666000005,
          7549.542361200001,
          11701.0708332,
          18759.376389,
          27336.616110000003,
          35171.97191444444,
          45919.263188888886,
          53173.818056250006
         ]
        },
        {
         "name": "Data center S",
         "type": "scatter",
         "x": [
          0,
          1,
          2,
          3,
          4,
          5,
          6,
          7,
          8,
          9,
          10,
          11,
          12,
          13,
          14,
          15
         ],
         "y": [
          12290.507216000002,
          13382.570666666667,
          12274.106826111114,
          10354.698524764704,
          7875.7039200555555,
          5532.849607444445,
          3870.3323046470587,
          2525.0080932941178,
          1802.6007592222222,
          1587.1680844210525,
          1811.6620973157897,
          2812.193997526316,
          4378.6854048000005,
          6935.136842157895,
          12054.667476055558,
          16152.551080666668
         ]
        }
       ],
       "layout": {
        "title": "Tuesday breakdown by hour",
        "xaxis": {
         "domain": [
          0,
          24
         ],
         "ticklen": 5,
         "title": "24 hour period of time in UTC"
        },
        "yaxis": {
         "domain": [
          0,
          60000
         ],
         "ticklen": 5,
         "title": "Amount of bids"
        }
       }
      },
      "text/html": [
       "<div id=\"a0d041a9-0aa3-4fc9-b6a1-2ac1da7a2231\" style=\"height: 525px; width: 100%;\" class=\"plotly-graph-div\"></div><script type=\"text/javascript\">require([\"plotly\"], function(Plotly) { window.PLOTLYENV=window.PLOTLYENV || {};window.PLOTLYENV.BASE_URL=\"https://plot.ly\";Plotly.newPlot(\"a0d041a9-0aa3-4fc9-b6a1-2ac1da7a2231\", [{\"type\": \"scatter\", \"x\": [0, 1, 2, 3, 4, 5, 6, 7, 8, 9, 10, 11, 12, 13, 14, 15], \"y\": [2039.9861855, 1646.0283704, 1557.6388590833333, 1864.5167696428573, 2682.758309, 4057.1297995384616, 4856.406840615384, 4023.9615244166666, 4277.015138999999, 4737.112380909091, 4406.03850525, 4894.928115083333, 5374.390995153846, 4388.303467529411, 4129.013524823529, 4419.7281746], \"name\": \"Data center A\"}, {\"type\": \"scatter\", \"x\": [0, 1, 2, 3, 4, 5, 6, 7, 8, 9, 10, 11, 12, 13, 14, 15], \"y\": [43689.695001, 42702.475, 40249.740556, 32614.144443999998, 20039.588885454545, 12561.695001, 8923.556111200001, 6528.1669443, 5988.0791666000005, 7549.542361200001, 11701.0708332, 18759.376389, 27336.616110000003, 35171.97191444444, 45919.263188888886, 53173.818056250006], \"name\": \"Data center I\"}, {\"type\": \"scatter\", \"x\": [0, 1, 2, 3, 4, 5, 6, 7, 8, 9, 10, 11, 12, 13, 14, 15], \"y\": [12290.507216000002, 13382.570666666667, 12274.106826111114, 10354.698524764704, 7875.7039200555555, 5532.849607444445, 3870.3323046470587, 2525.0080932941178, 1802.6007592222222, 1587.1680844210525, 1811.6620973157897, 2812.193997526316, 4378.6854048000005, 6935.136842157895, 12054.667476055558, 16152.551080666668], \"name\": \"Data center S\"}], {\"title\": \"Tuesday breakdown by hour\", \"xaxis\": {\"title\": \"24 hour period of time in UTC\", \"domain\": [0, 24], \"ticklen\": 5}, \"yaxis\": {\"title\": \"Amount of bids\", \"domain\": [0, 60000], \"ticklen\": 5}}, {\"showLink\": true, \"linkText\": \"Export to plot.ly\"})});</script>"
      ],
      "text/vnd.plotly.v1+html": [
       "<div id=\"a0d041a9-0aa3-4fc9-b6a1-2ac1da7a2231\" style=\"height: 525px; width: 100%;\" class=\"plotly-graph-div\"></div><script type=\"text/javascript\">require([\"plotly\"], function(Plotly) { window.PLOTLYENV=window.PLOTLYENV || {};window.PLOTLYENV.BASE_URL=\"https://plot.ly\";Plotly.newPlot(\"a0d041a9-0aa3-4fc9-b6a1-2ac1da7a2231\", [{\"type\": \"scatter\", \"x\": [0, 1, 2, 3, 4, 5, 6, 7, 8, 9, 10, 11, 12, 13, 14, 15], \"y\": [2039.9861855, 1646.0283704, 1557.6388590833333, 1864.5167696428573, 2682.758309, 4057.1297995384616, 4856.406840615384, 4023.9615244166666, 4277.015138999999, 4737.112380909091, 4406.03850525, 4894.928115083333, 5374.390995153846, 4388.303467529411, 4129.013524823529, 4419.7281746], \"name\": \"Data center A\"}, {\"type\": \"scatter\", \"x\": [0, 1, 2, 3, 4, 5, 6, 7, 8, 9, 10, 11, 12, 13, 14, 15], \"y\": [43689.695001, 42702.475, 40249.740556, 32614.144443999998, 20039.588885454545, 12561.695001, 8923.556111200001, 6528.1669443, 5988.0791666000005, 7549.542361200001, 11701.0708332, 18759.376389, 27336.616110000003, 35171.97191444444, 45919.263188888886, 53173.818056250006], \"name\": \"Data center I\"}, {\"type\": \"scatter\", \"x\": [0, 1, 2, 3, 4, 5, 6, 7, 8, 9, 10, 11, 12, 13, 14, 15], \"y\": [12290.507216000002, 13382.570666666667, 12274.106826111114, 10354.698524764704, 7875.7039200555555, 5532.849607444445, 3870.3323046470587, 2525.0080932941178, 1802.6007592222222, 1587.1680844210525, 1811.6620973157897, 2812.193997526316, 4378.6854048000005, 6935.136842157895, 12054.667476055558, 16152.551080666668], \"name\": \"Data center S\"}], {\"title\": \"Tuesday breakdown by hour\", \"xaxis\": {\"title\": \"24 hour period of time in UTC\", \"domain\": [0, 24], \"ticklen\": 5}, \"yaxis\": {\"title\": \"Amount of bids\", \"domain\": [0, 60000], \"ticklen\": 5}}, {\"showLink\": true, \"linkText\": \"Export to plot.ly\"})});</script>"
      ]
     },
     "metadata": {},
     "output_type": "display_data"
    }
   ],
   "source": [
    "# Plots the graph showing activity per hour of all three data centers over the period of \n",
    "# 24 hours (how many bids was placed in each data center ever hour)\n",
    "\n",
    "import plotly\n",
    "from plotly import tools\n",
    "from plotly.offline import download_plotlyjs, init_notebook_mode, plot, iplot\n",
    "import plotly.graph_objs as go\n",
    "init_notebook_mode(connected = True)\n",
    "\n",
    "scatter_dc_a_mon_hr = go.Scatter(\n",
    "    x = dc_a_mon_hr.index,\n",
    "    y = dc_a_mon_hr['mean'],\n",
    "    name = \"Data center A\"\n",
    ")\n",
    "scatter_dc_i_mon_hr = go.Scatter(\n",
    "    x = dc_i_mon_hr.index,\n",
    "    y = dc_i_mon_hr['mean'],\n",
    "    name = \"Data center I\"\n",
    ")\n",
    "scatter_dc_s_mon_hr = go.Scatter(\n",
    "    x = dc_s_mon_hr.index,\n",
    "    y = dc_s_mon_hr['mean'],\n",
    "    name = \"Data center S\"\n",
    ")\n",
    "\n",
    "scatter_dc_a_tue_hr = go.Scatter(\n",
    "    x = dc_a_tue_hr.index,\n",
    "    y = dc_a_tue_hr['mean'],\n",
    "    name = \"Data center A\"\n",
    ")\n",
    "scatter_dc_i_tue_hr = go.Scatter(\n",
    "    x = dc_i_tue_hr.index,\n",
    "    y = dc_i_tue_hr['mean'],\n",
    "    name = \"Data center I\"\n",
    ")\n",
    "scatter_dc_s_tue_hr = go.Scatter(\n",
    "    x = dc_s_tue_hr.index,\n",
    "    y = dc_s_tue_hr['mean'],\n",
    "    name = \"Data center S\"\n",
    ")\n",
    "\n",
    "mon_data = [scatter_dc_a_mon_hr, scatter_dc_i_mon_hr, scatter_dc_s_mon_hr]\n",
    "tue_data = [scatter_dc_a_tue_hr, scatter_dc_i_tue_hr, scatter_dc_s_tue_hr]\n",
    "\n",
    "mon_layout = go.Layout(\n",
    "    title = 'Monday breakdown by hour',\n",
    "    xaxis = dict(\n",
    "        title='24 hour period of time in UTC',\n",
    "        domain = [0, 24]\n",
    "    ),\n",
    "    yaxis = dict(\n",
    "        title = 'Amount of bids',\n",
    "        domain = [0, 60000] \n",
    "    ),\n",
    ")\n",
    "\n",
    "tue_layout = go.Layout(\n",
    "    title = 'Tuesday breakdown by hour',\n",
    "    xaxis = dict(\n",
    "        title='24 hour period of time in UTC',\n",
    "        domain = [0, 24],\n",
    "        ticklen = 5\n",
    "    ),\n",
    "    yaxis = dict(\n",
    "        title = 'Amount of bids',\n",
    "        domain = [0, 60000],\n",
    "        ticklen = 5,\n",
    "    ),\n",
    ")\n",
    "\n",
    "mon_fig = go.Figure(data=mon_data, layout=mon_layout)\n",
    "tue_fig = go.Figure(data=tue_data, layout=tue_layout)\n",
    "\n",
    "iplot(mon_fig)\n",
    "iplot(tue_fig)"
   ]
  }
 ],
 "metadata": {
  "kernelspec": {
   "display_name": "conversant",
   "language": "python",
   "name": "conversant"
  },
  "language_info": {
   "codemirror_mode": {
    "name": "ipython",
    "version": 3
   },
   "file_extension": ".py",
   "mimetype": "text/x-python",
   "name": "python",
   "nbconvert_exporter": "python",
   "pygments_lexer": "ipython3",
   "version": "3.6.5"
  }
 },
 "nbformat": 4,
 "nbformat_minor": 2
}
